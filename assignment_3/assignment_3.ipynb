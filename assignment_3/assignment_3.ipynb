{
  "nbformat": 4,
  "nbformat_minor": 0,
  "metadata": {
    "colab": {
      "name": "assignment_3.ipynb",
      "provenance": [],
      "collapsed_sections": [],
      "toc_visible": true
    },
    "kernelspec": {
      "display_name": "Python 3",
      "name": "python3"
    },
    "language_info": {
      "name": "python"
    },
    "accelerator": "GPU",
    "widgets": {
      "application/vnd.jupyter.widget-state+json": {
        "d0d485d2a9a841a38bcf8d8589be7c38": {
          "model_module": "@jupyter-widgets/controls",
          "model_name": "HBoxModel",
          "state": {
            "_view_name": "HBoxView",
            "_dom_classes": [],
            "_model_name": "HBoxModel",
            "_view_module": "@jupyter-widgets/controls",
            "_model_module_version": "1.5.0",
            "_view_count": null,
            "_view_module_version": "1.5.0",
            "box_style": "",
            "layout": "IPY_MODEL_92e5bf0ebace4ef6b1a4d9948ee84c8c",
            "_model_module": "@jupyter-widgets/controls",
            "children": [
              "IPY_MODEL_c426b885695a43f2a982399983962687",
              "IPY_MODEL_9aca76f5f774485493135ef8de5b1dcb"
            ]
          }
        },
        "92e5bf0ebace4ef6b1a4d9948ee84c8c": {
          "model_module": "@jupyter-widgets/base",
          "model_name": "LayoutModel",
          "state": {
            "_view_name": "LayoutView",
            "grid_template_rows": null,
            "right": null,
            "justify_content": null,
            "_view_module": "@jupyter-widgets/base",
            "overflow": null,
            "_model_module_version": "1.2.0",
            "_view_count": null,
            "flex_flow": null,
            "width": null,
            "min_width": null,
            "border": null,
            "align_items": null,
            "bottom": null,
            "_model_module": "@jupyter-widgets/base",
            "top": null,
            "grid_column": null,
            "overflow_y": null,
            "overflow_x": null,
            "grid_auto_flow": null,
            "grid_area": null,
            "grid_template_columns": null,
            "flex": null,
            "_model_name": "LayoutModel",
            "justify_items": null,
            "grid_row": null,
            "max_height": null,
            "align_content": null,
            "visibility": null,
            "align_self": null,
            "height": null,
            "min_height": null,
            "padding": null,
            "grid_auto_rows": null,
            "grid_gap": null,
            "max_width": null,
            "order": null,
            "_view_module_version": "1.2.0",
            "grid_template_areas": null,
            "object_position": null,
            "object_fit": null,
            "grid_auto_columns": null,
            "margin": null,
            "display": null,
            "left": null
          }
        },
        "c426b885695a43f2a982399983962687": {
          "model_module": "@jupyter-widgets/controls",
          "model_name": "FloatProgressModel",
          "state": {
            "_view_name": "ProgressView",
            "style": "IPY_MODEL_b6e2b895c1b24f1cbf37131f7bc15fc1",
            "_dom_classes": [],
            "description": "",
            "_model_name": "FloatProgressModel",
            "bar_style": "success",
            "max": 9912422,
            "_view_module": "@jupyter-widgets/controls",
            "_model_module_version": "1.5.0",
            "value": 9912422,
            "_view_count": null,
            "_view_module_version": "1.5.0",
            "orientation": "horizontal",
            "min": 0,
            "description_tooltip": null,
            "_model_module": "@jupyter-widgets/controls",
            "layout": "IPY_MODEL_36e77c1d923b426a889059ffe4a4c6aa"
          }
        },
        "9aca76f5f774485493135ef8de5b1dcb": {
          "model_module": "@jupyter-widgets/controls",
          "model_name": "HTMLModel",
          "state": {
            "_view_name": "HTMLView",
            "style": "IPY_MODEL_72adbb8f13a84f7fbbdd60e73755036e",
            "_dom_classes": [],
            "description": "",
            "_model_name": "HTMLModel",
            "placeholder": "​",
            "_view_module": "@jupyter-widgets/controls",
            "_model_module_version": "1.5.0",
            "value": " 9913344/? [02:35&lt;00:00, 63680.36it/s]",
            "_view_count": null,
            "_view_module_version": "1.5.0",
            "description_tooltip": null,
            "_model_module": "@jupyter-widgets/controls",
            "layout": "IPY_MODEL_26d15970b058460ea31d2d9fa64b16b7"
          }
        },
        "b6e2b895c1b24f1cbf37131f7bc15fc1": {
          "model_module": "@jupyter-widgets/controls",
          "model_name": "ProgressStyleModel",
          "state": {
            "_view_name": "StyleView",
            "_model_name": "ProgressStyleModel",
            "description_width": "initial",
            "_view_module": "@jupyter-widgets/base",
            "_model_module_version": "1.5.0",
            "_view_count": null,
            "_view_module_version": "1.2.0",
            "bar_color": null,
            "_model_module": "@jupyter-widgets/controls"
          }
        },
        "36e77c1d923b426a889059ffe4a4c6aa": {
          "model_module": "@jupyter-widgets/base",
          "model_name": "LayoutModel",
          "state": {
            "_view_name": "LayoutView",
            "grid_template_rows": null,
            "right": null,
            "justify_content": null,
            "_view_module": "@jupyter-widgets/base",
            "overflow": null,
            "_model_module_version": "1.2.0",
            "_view_count": null,
            "flex_flow": null,
            "width": null,
            "min_width": null,
            "border": null,
            "align_items": null,
            "bottom": null,
            "_model_module": "@jupyter-widgets/base",
            "top": null,
            "grid_column": null,
            "overflow_y": null,
            "overflow_x": null,
            "grid_auto_flow": null,
            "grid_area": null,
            "grid_template_columns": null,
            "flex": null,
            "_model_name": "LayoutModel",
            "justify_items": null,
            "grid_row": null,
            "max_height": null,
            "align_content": null,
            "visibility": null,
            "align_self": null,
            "height": null,
            "min_height": null,
            "padding": null,
            "grid_auto_rows": null,
            "grid_gap": null,
            "max_width": null,
            "order": null,
            "_view_module_version": "1.2.0",
            "grid_template_areas": null,
            "object_position": null,
            "object_fit": null,
            "grid_auto_columns": null,
            "margin": null,
            "display": null,
            "left": null
          }
        },
        "72adbb8f13a84f7fbbdd60e73755036e": {
          "model_module": "@jupyter-widgets/controls",
          "model_name": "DescriptionStyleModel",
          "state": {
            "_view_name": "StyleView",
            "_model_name": "DescriptionStyleModel",
            "description_width": "",
            "_view_module": "@jupyter-widgets/base",
            "_model_module_version": "1.5.0",
            "_view_count": null,
            "_view_module_version": "1.2.0",
            "_model_module": "@jupyter-widgets/controls"
          }
        },
        "26d15970b058460ea31d2d9fa64b16b7": {
          "model_module": "@jupyter-widgets/base",
          "model_name": "LayoutModel",
          "state": {
            "_view_name": "LayoutView",
            "grid_template_rows": null,
            "right": null,
            "justify_content": null,
            "_view_module": "@jupyter-widgets/base",
            "overflow": null,
            "_model_module_version": "1.2.0",
            "_view_count": null,
            "flex_flow": null,
            "width": null,
            "min_width": null,
            "border": null,
            "align_items": null,
            "bottom": null,
            "_model_module": "@jupyter-widgets/base",
            "top": null,
            "grid_column": null,
            "overflow_y": null,
            "overflow_x": null,
            "grid_auto_flow": null,
            "grid_area": null,
            "grid_template_columns": null,
            "flex": null,
            "_model_name": "LayoutModel",
            "justify_items": null,
            "grid_row": null,
            "max_height": null,
            "align_content": null,
            "visibility": null,
            "align_self": null,
            "height": null,
            "min_height": null,
            "padding": null,
            "grid_auto_rows": null,
            "grid_gap": null,
            "max_width": null,
            "order": null,
            "_view_module_version": "1.2.0",
            "grid_template_areas": null,
            "object_position": null,
            "object_fit": null,
            "grid_auto_columns": null,
            "margin": null,
            "display": null,
            "left": null
          }
        },
        "c59ca67b21374b78b8687883fe053e61": {
          "model_module": "@jupyter-widgets/controls",
          "model_name": "HBoxModel",
          "state": {
            "_view_name": "HBoxView",
            "_dom_classes": [],
            "_model_name": "HBoxModel",
            "_view_module": "@jupyter-widgets/controls",
            "_model_module_version": "1.5.0",
            "_view_count": null,
            "_view_module_version": "1.5.0",
            "box_style": "",
            "layout": "IPY_MODEL_94613781032d4301b99cc435e745d9da",
            "_model_module": "@jupyter-widgets/controls",
            "children": [
              "IPY_MODEL_1c64ba14dfb3479697152823ad5ab223",
              "IPY_MODEL_73bb3ff90a054b58a552df970b5bb2d0"
            ]
          }
        },
        "94613781032d4301b99cc435e745d9da": {
          "model_module": "@jupyter-widgets/base",
          "model_name": "LayoutModel",
          "state": {
            "_view_name": "LayoutView",
            "grid_template_rows": null,
            "right": null,
            "justify_content": null,
            "_view_module": "@jupyter-widgets/base",
            "overflow": null,
            "_model_module_version": "1.2.0",
            "_view_count": null,
            "flex_flow": null,
            "width": null,
            "min_width": null,
            "border": null,
            "align_items": null,
            "bottom": null,
            "_model_module": "@jupyter-widgets/base",
            "top": null,
            "grid_column": null,
            "overflow_y": null,
            "overflow_x": null,
            "grid_auto_flow": null,
            "grid_area": null,
            "grid_template_columns": null,
            "flex": null,
            "_model_name": "LayoutModel",
            "justify_items": null,
            "grid_row": null,
            "max_height": null,
            "align_content": null,
            "visibility": null,
            "align_self": null,
            "height": null,
            "min_height": null,
            "padding": null,
            "grid_auto_rows": null,
            "grid_gap": null,
            "max_width": null,
            "order": null,
            "_view_module_version": "1.2.0",
            "grid_template_areas": null,
            "object_position": null,
            "object_fit": null,
            "grid_auto_columns": null,
            "margin": null,
            "display": null,
            "left": null
          }
        },
        "1c64ba14dfb3479697152823ad5ab223": {
          "model_module": "@jupyter-widgets/controls",
          "model_name": "FloatProgressModel",
          "state": {
            "_view_name": "ProgressView",
            "style": "IPY_MODEL_21d26d67df60456ab2ed9fc3eadaaf3e",
            "_dom_classes": [],
            "description": "",
            "_model_name": "FloatProgressModel",
            "bar_style": "success",
            "max": 28881,
            "_view_module": "@jupyter-widgets/controls",
            "_model_module_version": "1.5.0",
            "value": 28881,
            "_view_count": null,
            "_view_module_version": "1.5.0",
            "orientation": "horizontal",
            "min": 0,
            "description_tooltip": null,
            "_model_module": "@jupyter-widgets/controls",
            "layout": "IPY_MODEL_c1bb15067d5c48d3bb7f4bf2810ee88c"
          }
        },
        "73bb3ff90a054b58a552df970b5bb2d0": {
          "model_module": "@jupyter-widgets/controls",
          "model_name": "HTMLModel",
          "state": {
            "_view_name": "HTMLView",
            "style": "IPY_MODEL_19bce72243214b64ae7183255b4178b8",
            "_dom_classes": [],
            "description": "",
            "_model_name": "HTMLModel",
            "placeholder": "​",
            "_view_module": "@jupyter-widgets/controls",
            "_model_module_version": "1.5.0",
            "value": " 29696/? [00:00&lt;00:00, 119430.83it/s]",
            "_view_count": null,
            "_view_module_version": "1.5.0",
            "description_tooltip": null,
            "_model_module": "@jupyter-widgets/controls",
            "layout": "IPY_MODEL_3032730fc4e74da5b3b3cccdf38b5e49"
          }
        },
        "21d26d67df60456ab2ed9fc3eadaaf3e": {
          "model_module": "@jupyter-widgets/controls",
          "model_name": "ProgressStyleModel",
          "state": {
            "_view_name": "StyleView",
            "_model_name": "ProgressStyleModel",
            "description_width": "initial",
            "_view_module": "@jupyter-widgets/base",
            "_model_module_version": "1.5.0",
            "_view_count": null,
            "_view_module_version": "1.2.0",
            "bar_color": null,
            "_model_module": "@jupyter-widgets/controls"
          }
        },
        "c1bb15067d5c48d3bb7f4bf2810ee88c": {
          "model_module": "@jupyter-widgets/base",
          "model_name": "LayoutModel",
          "state": {
            "_view_name": "LayoutView",
            "grid_template_rows": null,
            "right": null,
            "justify_content": null,
            "_view_module": "@jupyter-widgets/base",
            "overflow": null,
            "_model_module_version": "1.2.0",
            "_view_count": null,
            "flex_flow": null,
            "width": null,
            "min_width": null,
            "border": null,
            "align_items": null,
            "bottom": null,
            "_model_module": "@jupyter-widgets/base",
            "top": null,
            "grid_column": null,
            "overflow_y": null,
            "overflow_x": null,
            "grid_auto_flow": null,
            "grid_area": null,
            "grid_template_columns": null,
            "flex": null,
            "_model_name": "LayoutModel",
            "justify_items": null,
            "grid_row": null,
            "max_height": null,
            "align_content": null,
            "visibility": null,
            "align_self": null,
            "height": null,
            "min_height": null,
            "padding": null,
            "grid_auto_rows": null,
            "grid_gap": null,
            "max_width": null,
            "order": null,
            "_view_module_version": "1.2.0",
            "grid_template_areas": null,
            "object_position": null,
            "object_fit": null,
            "grid_auto_columns": null,
            "margin": null,
            "display": null,
            "left": null
          }
        },
        "19bce72243214b64ae7183255b4178b8": {
          "model_module": "@jupyter-widgets/controls",
          "model_name": "DescriptionStyleModel",
          "state": {
            "_view_name": "StyleView",
            "_model_name": "DescriptionStyleModel",
            "description_width": "",
            "_view_module": "@jupyter-widgets/base",
            "_model_module_version": "1.5.0",
            "_view_count": null,
            "_view_module_version": "1.2.0",
            "_model_module": "@jupyter-widgets/controls"
          }
        },
        "3032730fc4e74da5b3b3cccdf38b5e49": {
          "model_module": "@jupyter-widgets/base",
          "model_name": "LayoutModel",
          "state": {
            "_view_name": "LayoutView",
            "grid_template_rows": null,
            "right": null,
            "justify_content": null,
            "_view_module": "@jupyter-widgets/base",
            "overflow": null,
            "_model_module_version": "1.2.0",
            "_view_count": null,
            "flex_flow": null,
            "width": null,
            "min_width": null,
            "border": null,
            "align_items": null,
            "bottom": null,
            "_model_module": "@jupyter-widgets/base",
            "top": null,
            "grid_column": null,
            "overflow_y": null,
            "overflow_x": null,
            "grid_auto_flow": null,
            "grid_area": null,
            "grid_template_columns": null,
            "flex": null,
            "_model_name": "LayoutModel",
            "justify_items": null,
            "grid_row": null,
            "max_height": null,
            "align_content": null,
            "visibility": null,
            "align_self": null,
            "height": null,
            "min_height": null,
            "padding": null,
            "grid_auto_rows": null,
            "grid_gap": null,
            "max_width": null,
            "order": null,
            "_view_module_version": "1.2.0",
            "grid_template_areas": null,
            "object_position": null,
            "object_fit": null,
            "grid_auto_columns": null,
            "margin": null,
            "display": null,
            "left": null
          }
        },
        "9ea6e8de107346a1952ce5ee1b956396": {
          "model_module": "@jupyter-widgets/controls",
          "model_name": "HBoxModel",
          "state": {
            "_view_name": "HBoxView",
            "_dom_classes": [],
            "_model_name": "HBoxModel",
            "_view_module": "@jupyter-widgets/controls",
            "_model_module_version": "1.5.0",
            "_view_count": null,
            "_view_module_version": "1.5.0",
            "box_style": "",
            "layout": "IPY_MODEL_c642639f6b9c47a1b7e2add71556930a",
            "_model_module": "@jupyter-widgets/controls",
            "children": [
              "IPY_MODEL_a4ff191ca3a04a79ae259aab4640b532",
              "IPY_MODEL_c1ad971c3d104ef6a7b9087839d0683b"
            ]
          }
        },
        "c642639f6b9c47a1b7e2add71556930a": {
          "model_module": "@jupyter-widgets/base",
          "model_name": "LayoutModel",
          "state": {
            "_view_name": "LayoutView",
            "grid_template_rows": null,
            "right": null,
            "justify_content": null,
            "_view_module": "@jupyter-widgets/base",
            "overflow": null,
            "_model_module_version": "1.2.0",
            "_view_count": null,
            "flex_flow": null,
            "width": null,
            "min_width": null,
            "border": null,
            "align_items": null,
            "bottom": null,
            "_model_module": "@jupyter-widgets/base",
            "top": null,
            "grid_column": null,
            "overflow_y": null,
            "overflow_x": null,
            "grid_auto_flow": null,
            "grid_area": null,
            "grid_template_columns": null,
            "flex": null,
            "_model_name": "LayoutModel",
            "justify_items": null,
            "grid_row": null,
            "max_height": null,
            "align_content": null,
            "visibility": null,
            "align_self": null,
            "height": null,
            "min_height": null,
            "padding": null,
            "grid_auto_rows": null,
            "grid_gap": null,
            "max_width": null,
            "order": null,
            "_view_module_version": "1.2.0",
            "grid_template_areas": null,
            "object_position": null,
            "object_fit": null,
            "grid_auto_columns": null,
            "margin": null,
            "display": null,
            "left": null
          }
        },
        "a4ff191ca3a04a79ae259aab4640b532": {
          "model_module": "@jupyter-widgets/controls",
          "model_name": "FloatProgressModel",
          "state": {
            "_view_name": "ProgressView",
            "style": "IPY_MODEL_68bc3d7313774487aa64111e45e59d1f",
            "_dom_classes": [],
            "description": "",
            "_model_name": "FloatProgressModel",
            "bar_style": "success",
            "max": 1648877,
            "_view_module": "@jupyter-widgets/controls",
            "_model_module_version": "1.5.0",
            "value": 1648877,
            "_view_count": null,
            "_view_module_version": "1.5.0",
            "orientation": "horizontal",
            "min": 0,
            "description_tooltip": null,
            "_model_module": "@jupyter-widgets/controls",
            "layout": "IPY_MODEL_e2fd2419f2e347c590d9f000dcc396e5"
          }
        },
        "c1ad971c3d104ef6a7b9087839d0683b": {
          "model_module": "@jupyter-widgets/controls",
          "model_name": "HTMLModel",
          "state": {
            "_view_name": "HTMLView",
            "style": "IPY_MODEL_fb8b23ed341344d79b7e7736f6ede575",
            "_dom_classes": [],
            "description": "",
            "_model_name": "HTMLModel",
            "placeholder": "​",
            "_view_module": "@jupyter-widgets/controls",
            "_model_module_version": "1.5.0",
            "value": " 1649664/? [02:34&lt;00:00, 10655.87it/s]",
            "_view_count": null,
            "_view_module_version": "1.5.0",
            "description_tooltip": null,
            "_model_module": "@jupyter-widgets/controls",
            "layout": "IPY_MODEL_86e9c524158445b8bbfb6a9f3d0578fe"
          }
        },
        "68bc3d7313774487aa64111e45e59d1f": {
          "model_module": "@jupyter-widgets/controls",
          "model_name": "ProgressStyleModel",
          "state": {
            "_view_name": "StyleView",
            "_model_name": "ProgressStyleModel",
            "description_width": "initial",
            "_view_module": "@jupyter-widgets/base",
            "_model_module_version": "1.5.0",
            "_view_count": null,
            "_view_module_version": "1.2.0",
            "bar_color": null,
            "_model_module": "@jupyter-widgets/controls"
          }
        },
        "e2fd2419f2e347c590d9f000dcc396e5": {
          "model_module": "@jupyter-widgets/base",
          "model_name": "LayoutModel",
          "state": {
            "_view_name": "LayoutView",
            "grid_template_rows": null,
            "right": null,
            "justify_content": null,
            "_view_module": "@jupyter-widgets/base",
            "overflow": null,
            "_model_module_version": "1.2.0",
            "_view_count": null,
            "flex_flow": null,
            "width": null,
            "min_width": null,
            "border": null,
            "align_items": null,
            "bottom": null,
            "_model_module": "@jupyter-widgets/base",
            "top": null,
            "grid_column": null,
            "overflow_y": null,
            "overflow_x": null,
            "grid_auto_flow": null,
            "grid_area": null,
            "grid_template_columns": null,
            "flex": null,
            "_model_name": "LayoutModel",
            "justify_items": null,
            "grid_row": null,
            "max_height": null,
            "align_content": null,
            "visibility": null,
            "align_self": null,
            "height": null,
            "min_height": null,
            "padding": null,
            "grid_auto_rows": null,
            "grid_gap": null,
            "max_width": null,
            "order": null,
            "_view_module_version": "1.2.0",
            "grid_template_areas": null,
            "object_position": null,
            "object_fit": null,
            "grid_auto_columns": null,
            "margin": null,
            "display": null,
            "left": null
          }
        },
        "fb8b23ed341344d79b7e7736f6ede575": {
          "model_module": "@jupyter-widgets/controls",
          "model_name": "DescriptionStyleModel",
          "state": {
            "_view_name": "StyleView",
            "_model_name": "DescriptionStyleModel",
            "description_width": "",
            "_view_module": "@jupyter-widgets/base",
            "_model_module_version": "1.5.0",
            "_view_count": null,
            "_view_module_version": "1.2.0",
            "_model_module": "@jupyter-widgets/controls"
          }
        },
        "86e9c524158445b8bbfb6a9f3d0578fe": {
          "model_module": "@jupyter-widgets/base",
          "model_name": "LayoutModel",
          "state": {
            "_view_name": "LayoutView",
            "grid_template_rows": null,
            "right": null,
            "justify_content": null,
            "_view_module": "@jupyter-widgets/base",
            "overflow": null,
            "_model_module_version": "1.2.0",
            "_view_count": null,
            "flex_flow": null,
            "width": null,
            "min_width": null,
            "border": null,
            "align_items": null,
            "bottom": null,
            "_model_module": "@jupyter-widgets/base",
            "top": null,
            "grid_column": null,
            "overflow_y": null,
            "overflow_x": null,
            "grid_auto_flow": null,
            "grid_area": null,
            "grid_template_columns": null,
            "flex": null,
            "_model_name": "LayoutModel",
            "justify_items": null,
            "grid_row": null,
            "max_height": null,
            "align_content": null,
            "visibility": null,
            "align_self": null,
            "height": null,
            "min_height": null,
            "padding": null,
            "grid_auto_rows": null,
            "grid_gap": null,
            "max_width": null,
            "order": null,
            "_view_module_version": "1.2.0",
            "grid_template_areas": null,
            "object_position": null,
            "object_fit": null,
            "grid_auto_columns": null,
            "margin": null,
            "display": null,
            "left": null
          }
        },
        "e080cc5e7dc24c8980a3b85d2d0a3b8e": {
          "model_module": "@jupyter-widgets/controls",
          "model_name": "HBoxModel",
          "state": {
            "_view_name": "HBoxView",
            "_dom_classes": [],
            "_model_name": "HBoxModel",
            "_view_module": "@jupyter-widgets/controls",
            "_model_module_version": "1.5.0",
            "_view_count": null,
            "_view_module_version": "1.5.0",
            "box_style": "",
            "layout": "IPY_MODEL_a4dfa7b01a6b4d92b412e6ba7c3c764f",
            "_model_module": "@jupyter-widgets/controls",
            "children": [
              "IPY_MODEL_0803608444f54cd986c0428e58729c51",
              "IPY_MODEL_20dc8c8d42fb4055b3d934b540eb11a2"
            ]
          }
        },
        "a4dfa7b01a6b4d92b412e6ba7c3c764f": {
          "model_module": "@jupyter-widgets/base",
          "model_name": "LayoutModel",
          "state": {
            "_view_name": "LayoutView",
            "grid_template_rows": null,
            "right": null,
            "justify_content": null,
            "_view_module": "@jupyter-widgets/base",
            "overflow": null,
            "_model_module_version": "1.2.0",
            "_view_count": null,
            "flex_flow": null,
            "width": null,
            "min_width": null,
            "border": null,
            "align_items": null,
            "bottom": null,
            "_model_module": "@jupyter-widgets/base",
            "top": null,
            "grid_column": null,
            "overflow_y": null,
            "overflow_x": null,
            "grid_auto_flow": null,
            "grid_area": null,
            "grid_template_columns": null,
            "flex": null,
            "_model_name": "LayoutModel",
            "justify_items": null,
            "grid_row": null,
            "max_height": null,
            "align_content": null,
            "visibility": null,
            "align_self": null,
            "height": null,
            "min_height": null,
            "padding": null,
            "grid_auto_rows": null,
            "grid_gap": null,
            "max_width": null,
            "order": null,
            "_view_module_version": "1.2.0",
            "grid_template_areas": null,
            "object_position": null,
            "object_fit": null,
            "grid_auto_columns": null,
            "margin": null,
            "display": null,
            "left": null
          }
        },
        "0803608444f54cd986c0428e58729c51": {
          "model_module": "@jupyter-widgets/controls",
          "model_name": "FloatProgressModel",
          "state": {
            "_view_name": "ProgressView",
            "style": "IPY_MODEL_330b8e2cac8045d3bdec4cbe777e234a",
            "_dom_classes": [],
            "description": "",
            "_model_name": "FloatProgressModel",
            "bar_style": "success",
            "max": 4542,
            "_view_module": "@jupyter-widgets/controls",
            "_model_module_version": "1.5.0",
            "value": 4542,
            "_view_count": null,
            "_view_module_version": "1.5.0",
            "orientation": "horizontal",
            "min": 0,
            "description_tooltip": null,
            "_model_module": "@jupyter-widgets/controls",
            "layout": "IPY_MODEL_93bcbb8ca9d04f2898e0b3fb40b57dc4"
          }
        },
        "20dc8c8d42fb4055b3d934b540eb11a2": {
          "model_module": "@jupyter-widgets/controls",
          "model_name": "HTMLModel",
          "state": {
            "_view_name": "HTMLView",
            "style": "IPY_MODEL_b5bd3c94f2784724895f073380365f1b",
            "_dom_classes": [],
            "description": "",
            "_model_name": "HTMLModel",
            "placeholder": "​",
            "_view_module": "@jupyter-widgets/controls",
            "_model_module_version": "1.5.0",
            "value": " 5120/? [00:00&lt;00:00, 13747.00it/s]",
            "_view_count": null,
            "_view_module_version": "1.5.0",
            "description_tooltip": null,
            "_model_module": "@jupyter-widgets/controls",
            "layout": "IPY_MODEL_134482d2c95f4c28b835144b2e1dc044"
          }
        },
        "330b8e2cac8045d3bdec4cbe777e234a": {
          "model_module": "@jupyter-widgets/controls",
          "model_name": "ProgressStyleModel",
          "state": {
            "_view_name": "StyleView",
            "_model_name": "ProgressStyleModel",
            "description_width": "initial",
            "_view_module": "@jupyter-widgets/base",
            "_model_module_version": "1.5.0",
            "_view_count": null,
            "_view_module_version": "1.2.0",
            "bar_color": null,
            "_model_module": "@jupyter-widgets/controls"
          }
        },
        "93bcbb8ca9d04f2898e0b3fb40b57dc4": {
          "model_module": "@jupyter-widgets/base",
          "model_name": "LayoutModel",
          "state": {
            "_view_name": "LayoutView",
            "grid_template_rows": null,
            "right": null,
            "justify_content": null,
            "_view_module": "@jupyter-widgets/base",
            "overflow": null,
            "_model_module_version": "1.2.0",
            "_view_count": null,
            "flex_flow": null,
            "width": null,
            "min_width": null,
            "border": null,
            "align_items": null,
            "bottom": null,
            "_model_module": "@jupyter-widgets/base",
            "top": null,
            "grid_column": null,
            "overflow_y": null,
            "overflow_x": null,
            "grid_auto_flow": null,
            "grid_area": null,
            "grid_template_columns": null,
            "flex": null,
            "_model_name": "LayoutModel",
            "justify_items": null,
            "grid_row": null,
            "max_height": null,
            "align_content": null,
            "visibility": null,
            "align_self": null,
            "height": null,
            "min_height": null,
            "padding": null,
            "grid_auto_rows": null,
            "grid_gap": null,
            "max_width": null,
            "order": null,
            "_view_module_version": "1.2.0",
            "grid_template_areas": null,
            "object_position": null,
            "object_fit": null,
            "grid_auto_columns": null,
            "margin": null,
            "display": null,
            "left": null
          }
        },
        "b5bd3c94f2784724895f073380365f1b": {
          "model_module": "@jupyter-widgets/controls",
          "model_name": "DescriptionStyleModel",
          "state": {
            "_view_name": "StyleView",
            "_model_name": "DescriptionStyleModel",
            "description_width": "",
            "_view_module": "@jupyter-widgets/base",
            "_model_module_version": "1.5.0",
            "_view_count": null,
            "_view_module_version": "1.2.0",
            "_model_module": "@jupyter-widgets/controls"
          }
        },
        "134482d2c95f4c28b835144b2e1dc044": {
          "model_module": "@jupyter-widgets/base",
          "model_name": "LayoutModel",
          "state": {
            "_view_name": "LayoutView",
            "grid_template_rows": null,
            "right": null,
            "justify_content": null,
            "_view_module": "@jupyter-widgets/base",
            "overflow": null,
            "_model_module_version": "1.2.0",
            "_view_count": null,
            "flex_flow": null,
            "width": null,
            "min_width": null,
            "border": null,
            "align_items": null,
            "bottom": null,
            "_model_module": "@jupyter-widgets/base",
            "top": null,
            "grid_column": null,
            "overflow_y": null,
            "overflow_x": null,
            "grid_auto_flow": null,
            "grid_area": null,
            "grid_template_columns": null,
            "flex": null,
            "_model_name": "LayoutModel",
            "justify_items": null,
            "grid_row": null,
            "max_height": null,
            "align_content": null,
            "visibility": null,
            "align_self": null,
            "height": null,
            "min_height": null,
            "padding": null,
            "grid_auto_rows": null,
            "grid_gap": null,
            "max_width": null,
            "order": null,
            "_view_module_version": "1.2.0",
            "grid_template_areas": null,
            "object_position": null,
            "object_fit": null,
            "grid_auto_columns": null,
            "margin": null,
            "display": null,
            "left": null
          }
        }
      }
    }
  },
  "cells": [
    {
      "cell_type": "markdown",
      "metadata": {
        "id": "zna-7O8yj0Fb"
      },
      "source": [
        "# Problem Statement\n",
        "\n",
        "Create a Neural Network that takes two inputs and produces two outputs as described below :\n",
        "\n",
        "## Inputs :\n",
        "1. Image from MNIST\n",
        "2. Random Integer between 0-9\n",
        "\n",
        "## Outputs :\n",
        "\n",
        "1. MNIST label for the image\n",
        "2. Addition of MNIST Digit & Random Number\n",
        "\n",
        "![picture](https://drive.google.com/file/d/1vJDmSNH6pGrgBsYk19WAQVaBE_C9F0iI/view?usp=sharing)"
      ]
    },
    {
      "cell_type": "code",
      "metadata": {
        "id": "AVbY9RiFvf9T"
      },
      "source": [
        "# Standard Library Imports\n",
        "\n",
        "import torch\n",
        "import torchvision\n",
        "import warnings\n",
        "import torch.nn as nn\n",
        "import torch.nn.functional as F\n",
        "from torch import optim\n",
        "import torchvision.transforms as transforms\n",
        "from torch.utils.data.dataset import random_split\n",
        "import matplotlib.pyplot as plt\n",
        "from numpy.random import randint\n",
        "\n",
        "\n",
        "warnings.filterwarnings('ignore')\n"
      ],
      "execution_count": 1,
      "outputs": []
    },
    {
      "cell_type": "markdown",
      "metadata": {
        "id": "5khE2WrmlEAh"
      },
      "source": [
        "## Dataset Loader"
      ]
    },
    {
      "cell_type": "code",
      "metadata": {
        "id": "iNa-5Y4xtnI1",
        "colab": {
          "base_uri": "https://localhost:8080/",
          "height": 808,
          "referenced_widgets": [
            "d0d485d2a9a841a38bcf8d8589be7c38",
            "92e5bf0ebace4ef6b1a4d9948ee84c8c",
            "c426b885695a43f2a982399983962687",
            "9aca76f5f774485493135ef8de5b1dcb",
            "b6e2b895c1b24f1cbf37131f7bc15fc1",
            "36e77c1d923b426a889059ffe4a4c6aa",
            "72adbb8f13a84f7fbbdd60e73755036e",
            "26d15970b058460ea31d2d9fa64b16b7",
            "c59ca67b21374b78b8687883fe053e61",
            "94613781032d4301b99cc435e745d9da",
            "1c64ba14dfb3479697152823ad5ab223",
            "73bb3ff90a054b58a552df970b5bb2d0",
            "21d26d67df60456ab2ed9fc3eadaaf3e",
            "c1bb15067d5c48d3bb7f4bf2810ee88c",
            "19bce72243214b64ae7183255b4178b8",
            "3032730fc4e74da5b3b3cccdf38b5e49",
            "9ea6e8de107346a1952ce5ee1b956396",
            "c642639f6b9c47a1b7e2add71556930a",
            "a4ff191ca3a04a79ae259aab4640b532",
            "c1ad971c3d104ef6a7b9087839d0683b",
            "68bc3d7313774487aa64111e45e59d1f",
            "e2fd2419f2e347c590d9f000dcc396e5",
            "fb8b23ed341344d79b7e7736f6ede575",
            "86e9c524158445b8bbfb6a9f3d0578fe",
            "e080cc5e7dc24c8980a3b85d2d0a3b8e",
            "a4dfa7b01a6b4d92b412e6ba7c3c764f",
            "0803608444f54cd986c0428e58729c51",
            "20dc8c8d42fb4055b3d934b540eb11a2",
            "330b8e2cac8045d3bdec4cbe777e234a",
            "93bcbb8ca9d04f2898e0b3fb40b57dc4",
            "b5bd3c94f2784724895f073380365f1b",
            "134482d2c95f4c28b835144b2e1dc044"
          ]
        },
        "outputId": "e7f6c2ef-67a2-4380-bd90-38c8e3f2ca82"
      },
      "source": [
        "# Download MNIST Training\n",
        "dataset = torchvision.datasets.MNIST(root= './data',\n",
        "                                       train= True,\n",
        "                                       download= True,\n",
        "                                       transform= transforms.Compose([\n",
        "                                                                      transforms.ToTensor()\n",
        "                                       ]))\n",
        "# Download MNIST TEST\n",
        "test_set = torchvision.datasets.MNIST(root='./data',\n",
        "                                      train=False,\n",
        "                                      download=True,\n",
        "                                      transform=transforms.Compose([\n",
        "                                                                    transforms.ToTensor()\n",
        "                                      ]))\n",
        "\n",
        "# Split to 80-20 for train-valid\n",
        "lengths = [int(len(dataset)*0.8), int(len(dataset)*0.2)]\n",
        "train_set, val_set = random_split(dataset, lengths)\n",
        "\n",
        "# Hyper-parameter Initialisation\n",
        "batch_size=128\n",
        "\n",
        "# Load MNIST Train Data Loader\n",
        "train_loader = torch.utils.data.DataLoader(train_set,\n",
        "                                            batch_size= batch_size,\n",
        "                                            shuffle= True,\n",
        "                                            drop_last=True,\n",
        "                                          pin_memory=True)\n",
        "\n",
        "# Load MNIST Validation Data Loader\n",
        "val_loader = torch.utils.data.DataLoader(val_set,\n",
        "                                            batch_size= batch_size,\n",
        "                                            shuffle= True,\n",
        "                                            drop_last=True,\n",
        "                                            pin_memory=True)\n",
        "\n",
        "# Load MNIST Test Data Loader\n",
        "test_loader = torch.utils.data.DataLoader(test_set,\n",
        "                                          batch_size=batch_size,\n",
        "                                          shuffle=True,\n",
        "                                          pin_memory=True,\n",
        "                                          drop_last=True)"
      ],
      "execution_count": 2,
      "outputs": [
        {
          "output_type": "stream",
          "text": [
            "Downloading http://yann.lecun.com/exdb/mnist/train-images-idx3-ubyte.gz\n",
            "Failed to download (trying next):\n",
            "HTTP Error 503: Service Unavailable\n",
            "\n",
            "Downloading https://ossci-datasets.s3.amazonaws.com/mnist/train-images-idx3-ubyte.gz\n",
            "Downloading https://ossci-datasets.s3.amazonaws.com/mnist/train-images-idx3-ubyte.gz to ./data/MNIST/raw/train-images-idx3-ubyte.gz\n"
          ],
          "name": "stdout"
        },
        {
          "output_type": "display_data",
          "data": {
            "application/vnd.jupyter.widget-view+json": {
              "model_id": "d0d485d2a9a841a38bcf8d8589be7c38",
              "version_minor": 0,
              "version_major": 2
            },
            "text/plain": [
              "HBox(children=(FloatProgress(value=0.0, max=9912422.0), HTML(value='')))"
            ]
          },
          "metadata": {
            "tags": []
          }
        },
        {
          "output_type": "stream",
          "text": [
            "\n",
            "Extracting ./data/MNIST/raw/train-images-idx3-ubyte.gz to ./data/MNIST/raw\n",
            "\n",
            "Downloading http://yann.lecun.com/exdb/mnist/train-labels-idx1-ubyte.gz\n",
            "Failed to download (trying next):\n",
            "HTTP Error 503: Service Unavailable\n",
            "\n",
            "Downloading https://ossci-datasets.s3.amazonaws.com/mnist/train-labels-idx1-ubyte.gz\n",
            "Downloading https://ossci-datasets.s3.amazonaws.com/mnist/train-labels-idx1-ubyte.gz to ./data/MNIST/raw/train-labels-idx1-ubyte.gz\n"
          ],
          "name": "stdout"
        },
        {
          "output_type": "display_data",
          "data": {
            "application/vnd.jupyter.widget-view+json": {
              "model_id": "c59ca67b21374b78b8687883fe053e61",
              "version_minor": 0,
              "version_major": 2
            },
            "text/plain": [
              "HBox(children=(FloatProgress(value=0.0, max=28881.0), HTML(value='')))"
            ]
          },
          "metadata": {
            "tags": []
          }
        },
        {
          "output_type": "stream",
          "text": [
            "\n",
            "Extracting ./data/MNIST/raw/train-labels-idx1-ubyte.gz to ./data/MNIST/raw\n",
            "\n",
            "Downloading http://yann.lecun.com/exdb/mnist/t10k-images-idx3-ubyte.gz\n",
            "Downloading http://yann.lecun.com/exdb/mnist/t10k-images-idx3-ubyte.gz to ./data/MNIST/raw/t10k-images-idx3-ubyte.gz\n",
            "Failed to download (trying next):\n",
            "HTTP Error 503: Service Unavailable\n",
            "\n",
            "Downloading https://ossci-datasets.s3.amazonaws.com/mnist/t10k-images-idx3-ubyte.gz\n",
            "Downloading https://ossci-datasets.s3.amazonaws.com/mnist/t10k-images-idx3-ubyte.gz to ./data/MNIST/raw/t10k-images-idx3-ubyte.gz\n"
          ],
          "name": "stdout"
        },
        {
          "output_type": "display_data",
          "data": {
            "application/vnd.jupyter.widget-view+json": {
              "model_id": "9ea6e8de107346a1952ce5ee1b956396",
              "version_minor": 0,
              "version_major": 2
            },
            "text/plain": [
              "HBox(children=(FloatProgress(value=0.0, max=1648877.0), HTML(value='')))"
            ]
          },
          "metadata": {
            "tags": []
          }
        },
        {
          "output_type": "stream",
          "text": [
            "\n",
            "Extracting ./data/MNIST/raw/t10k-images-idx3-ubyte.gz to ./data/MNIST/raw\n",
            "\n",
            "Downloading http://yann.lecun.com/exdb/mnist/t10k-labels-idx1-ubyte.gz\n",
            "Failed to download (trying next):\n",
            "HTTP Error 503: Service Unavailable\n",
            "\n",
            "Downloading https://ossci-datasets.s3.amazonaws.com/mnist/t10k-labels-idx1-ubyte.gz\n",
            "Downloading https://ossci-datasets.s3.amazonaws.com/mnist/t10k-labels-idx1-ubyte.gz to ./data/MNIST/raw/t10k-labels-idx1-ubyte.gz\n"
          ],
          "name": "stdout"
        },
        {
          "output_type": "display_data",
          "data": {
            "application/vnd.jupyter.widget-view+json": {
              "model_id": "e080cc5e7dc24c8980a3b85d2d0a3b8e",
              "version_minor": 0,
              "version_major": 2
            },
            "text/plain": [
              "HBox(children=(FloatProgress(value=0.0, max=4542.0), HTML(value='')))"
            ]
          },
          "metadata": {
            "tags": []
          }
        },
        {
          "output_type": "stream",
          "text": [
            "\n",
            "Extracting ./data/MNIST/raw/t10k-labels-idx1-ubyte.gz to ./data/MNIST/raw\n",
            "\n",
            "Processing...\n",
            "Done!\n"
          ],
          "name": "stdout"
        }
      ]
    },
    {
      "cell_type": "code",
      "metadata": {
        "colab": {
          "base_uri": "https://localhost:8080/"
        },
        "id": "6tXnpWopttHV",
        "outputId": "7631c97a-89ec-4357-8e8d-1af4fa17306f"
      },
      "source": [
        "# Check Data for Each Class\n",
        "\n",
        "print(\"Class & Data For Training Set : \")\n",
        "print(dataset.targets.unique())\n",
        "print(dataset.targets.bincount())\n",
        "print()\n",
        "\n",
        "print(\"Class & Data For Test Set : \")\n",
        "print(test_set.targets.unique())\n",
        "print(test_set.targets.bincount())\n"
      ],
      "execution_count": 3,
      "outputs": [
        {
          "output_type": "stream",
          "text": [
            "Class & Data For Training Set : \n",
            "tensor([0, 1, 2, 3, 4, 5, 6, 7, 8, 9])\n",
            "tensor([5923, 6742, 5958, 6131, 5842, 5421, 5918, 6265, 5851, 5949])\n",
            "\n",
            "Class & Data For Test Set : \n",
            "tensor([0, 1, 2, 3, 4, 5, 6, 7, 8, 9])\n",
            "tensor([ 980, 1135, 1032, 1010,  982,  892,  958, 1028,  974, 1009])\n"
          ],
          "name": "stdout"
        }
      ]
    },
    {
      "cell_type": "markdown",
      "metadata": {
        "id": "ZhUwxlo0l_FG"
      },
      "source": [
        "## Model Architecture"
      ]
    },
    {
      "cell_type": "code",
      "metadata": {
        "id": "doFQM9BQtxXW"
      },
      "source": [
        "\n",
        "# Defining the Model Architecture\n",
        "\n",
        "class Network(nn.Module):\n",
        "  def __init__(self):\n",
        "    super().__init__()\n",
        "    self.conv1 = nn.Conv2d(in_channels=1,out_channels=16,kernel_size=3)\n",
        "    self.conv2 = nn.Conv2d(in_channels=16,out_channels=32,kernel_size=3)\n",
        "    self.conv3 = nn.Conv2d(in_channels=32,out_channels=64,kernel_size=3)\n",
        "    self.conv4 = nn.Conv2d(in_channels=64,out_channels=64,kernel_size=3)\n",
        "    self.conv5 = nn.Conv2d(in_channels=64,out_channels=64,kernel_size=3)\n",
        "    \n",
        "    self.pool1 = nn.MaxPool2d(kernel_size=2,stride=2)\n",
        "\n",
        "    self.fcl1 = nn.Linear(in_features=64*7*7,out_features=128)\n",
        "    self.emb1 = nn.Linear(in_features=128,out_features=64)\n",
        "    self.out1 = nn.Linear(in_features=64, out_features=10) # Output of the MNIST Image\n",
        "\n",
        "    self.fcr1 = nn.Linear(in_features=74,out_features=128)\n",
        "    self.emb2 = nn.Linear(in_features=128, out_features=256)\n",
        "    self.out2 = nn.Linear(in_features=256, out_features=19) # Output of the Random Addition\n",
        "\n",
        "  def forward(self,x1, x2):\n",
        "    x1 = F.relu(self.conv2(F.relu(self.conv1(x1))))\n",
        "    x1 = self.pool1(F.relu(self.conv3(x1)))\n",
        "    x1 = F.relu(self.conv5(F.relu(self.conv4(x1))))\n",
        "    x1 = x1.reshape(-1, 64*7*7)\n",
        "    x1 = F.relu(self.fcl1(x1))\n",
        "    x1 = F.relu(self.emb1(x1)) # Penulitmate Layer patterns/weights/embeddings\n",
        "    out1 = self.out1(x1) # MNIST Prediction\n",
        "\n",
        "    # Mix embeddings from the mnist convolutions\n",
        "    combined = torch.cat([x1,x2], dim=1)  # Concatenating the Radom Input along Dim 1\n",
        "\n",
        "    x2 = F.relu(self.fcr1(combined)) # FC layers for learning addition\n",
        "    x2 = F.relu(self.emb2(x2))\n",
        "    out2 = self.out2(x2)\n",
        "   \n",
        "    final_out = torch.cat([out1, out2], dim=1)\n",
        "\n",
        "    return final_out"
      ],
      "execution_count": 4,
      "outputs": []
    },
    {
      "cell_type": "markdown",
      "metadata": {
        "id": "-2cB5h5BoDWZ"
      },
      "source": [
        "### Prediction of Final Layers"
      ]
    },
    {
      "cell_type": "code",
      "metadata": {
        "id": "VSP-fNrPt2vS"
      },
      "source": [
        "## prediction class\n",
        "def class_predicted(preds, num_labels, sum_labels):\n",
        "    num_preds = preds[:, :10]\n",
        "    sum_preds = preds[:, 10:]\n",
        "    \n",
        "    correct = torch.logical_and(num_preds.argmax(dim=1).eq(num_labels), sum_preds.argmax(dim=1).eq(sum_labels)).sum().item()\n",
        "    \n",
        "    return correct"
      ],
      "execution_count": 5,
      "outputs": []
    },
    {
      "cell_type": "markdown",
      "metadata": {
        "id": "1hVzXtJgmVpi"
      },
      "source": [
        "### Loss Function"
      ]
    },
    {
      "cell_type": "code",
      "metadata": {
        "id": "C4j_Vw7-matV"
      },
      "source": [
        "def custom_loss(preds, img_labels, sum_labels):\n",
        "    num = preds[:, :10]\n",
        "    sum = preds[:, 10:]\n",
        "\n",
        "    num = F.log_softmax(num, dim=1)\n",
        "    sum = F.log_softmax(sum, dim=1)\n",
        "    \n",
        "    num_loss = torch.nn.NLLLoss()(num, img_labels)\n",
        "    sum_loss = torch.nn.NLLLoss()(sum, sum_labels)\n",
        "\n",
        "    loss = num_loss + sum_loss\n",
        "\n",
        "    return loss"
      ],
      "execution_count": 6,
      "outputs": []
    },
    {
      "cell_type": "markdown",
      "metadata": {
        "id": "OQBjsf2Cmczv"
      },
      "source": [
        "### Training Loop"
      ]
    },
    {
      "cell_type": "code",
      "metadata": {
        "id": "thRe4PUlt29k"
      },
      "source": [
        "def train_and_eval(model, train_loader, val_loader, optimizer, criterion, num_epoch, device):\n",
        "  train_losses = []\n",
        "  val_losses = []\n",
        "  for epoch in range(num_epoch):\n",
        "    for split in [\"train\", \"val\"]:\n",
        "        if split == \"train\":\n",
        "            train_loss= 0\n",
        "            train_correct= 0\n",
        "            model.train()\n",
        "            for images, labels in train_loader:\n",
        "                optimizer.zero_grad()\n",
        "\n",
        "                # MNIST Input & Label\n",
        "                images = images.to(device)\n",
        "                labels = labels.to(device)\n",
        "                #   one_hot_labels = F.one_hot(labels, num_classes=10)\n",
        "\n",
        "                # Create Random Number Input & Label \n",
        "                random_num = torch.randint(low=0, high=9, size=(batch_size,))\n",
        "                random_num = random_num.to(device)\n",
        "                random_inp = F.one_hot(random_num, num_classes=10)\n",
        "                random_inp = random_inp.type(torch.float32)\n",
        "                sum_labels = labels + random_num  \n",
        "                #   one_hot_random = F.one_hot(random_labels, num_classes=18)\n",
        "                random_inp = random_inp.to(device)\n",
        "                \n",
        "                # Forward Pass\n",
        "                preds = model(images, random_inp)\n",
        "                loss = criterion(preds, labels, sum_labels)\n",
        "                \n",
        "                optimizer.zero_grad()\n",
        "                loss.backward()\n",
        "                optimizer.step()\n",
        "\n",
        "                train_loss += loss.item()\n",
        "                train_correct += class_predicted(preds, labels, sum_labels)\n",
        "\n",
        "            print(f'Epoch:{epoch}\\t {split.upper()}\\t Correct Prediction:{train_correct}/{int(0.8*len(dataset))} \\t Loss:{train_loss}')\n",
        "            train_losses.append(train_loss)\n",
        "\n",
        "        if split == \"val\":\n",
        "            model.eval()\n",
        "            val_loss = 0\n",
        "            val_correct = 0\n",
        "            for images, labels in val_loader:\n",
        "                # MNIST Input & Label\n",
        "                images = images.to(device)\n",
        "                labels = labels.to(device)\n",
        "                #   one_hot_labels = F.one_hot(labels, num_classes=10)\n",
        "\n",
        "                # Create Random Number Input & Label \n",
        "                random_num = torch.randint(low=0, high=9, size=(batch_size,))\n",
        "                random_num = random_num.to(device)\n",
        "                random_inp = F.one_hot(random_num, num_classes=10)\n",
        "                random_inp = random_inp.type(torch.float32)\n",
        "                sum_labels = labels + random_num  \n",
        "                #   one_hot_random = F.one_hot(random_labels, num_classes=18)\n",
        "                \n",
        "                random_inp = random_inp.to(device)\n",
        "\n",
        "                with torch.no_grad():\n",
        "                    preds = model(images, random_inp)                    \n",
        "                    loss = criterion(preds, labels, sum_labels)\n",
        "\n",
        "                    val_loss += loss.item()\n",
        "                    val_correct += class_predicted(preds, labels, sum_labels)\n",
        "\n",
        "            print(f'Epoch:{epoch}\\t {split.upper()}\\t Correct Prediction:{val_correct}/{int(0.2*len(dataset))} \\t Loss:{val_loss}\\n')\n",
        "            print(\"==\"*10)\n",
        "            val_losses.append(val_loss)\n",
        "\n",
        "  return model, train_losses, val_losses"
      ],
      "execution_count": 7,
      "outputs": []
    },
    {
      "cell_type": "markdown",
      "metadata": {
        "id": "u-ocJ6eYnAnj"
      },
      "source": [
        "## Model Initialisation & Training"
      ]
    },
    {
      "cell_type": "code",
      "metadata": {
        "colab": {
          "base_uri": "https://localhost:8080/"
        },
        "id": "1C9NGP9hm0Lc",
        "outputId": "66a1fb72-9f7e-4a32-cfd9-b3833e69ceed"
      },
      "source": [
        "# Model Initialisation\n",
        "device = torch.device('cuda:0' if torch.cuda.is_available() else 'cpu')\n",
        "print(device)\n",
        "model= Network()\n",
        "model = model.train()\n",
        "model = model.to(device)\n",
        "\n",
        "print('Is model on GPU? ',next(model.parameters()).is_cuda)   ## check if model is moved to GPU\n",
        "\n",
        "# Hyper-parameter Initialisation\n",
        "batch_size=128\n",
        "lr=0.003\n",
        "num_epoch=20\n",
        "optimizer = optim.Adam(model.parameters(),lr=lr)\n",
        "\n",
        "# Training\n",
        "finalWeights, train_losses, val_losses = train_and_eval(model, train_loader, val_loader, optimizer, custom_loss, num_epoch, device)\n",
        "\n",
        "print(f\"Training Accuracy: {round((47817/48000)*100, 2)}%\")\n",
        "print(f\"Validation Accuracy: {round((11773/12000)*100, 2)}%\")"
      ],
      "execution_count": 8,
      "outputs": [
        {
          "output_type": "stream",
          "text": [
            "cuda:0\n",
            "Is model on GPU?  True\n",
            "Epoch:0\t TRAIN\t Correct Prediction:28962/48000 \t Loss:524.1885723844171\n",
            "Epoch:0\t VAL\t Correct Prediction:11564/12000 \t Loss:21.223478574305773\n",
            "\n",
            "====================\n",
            "Epoch:1\t TRAIN\t Correct Prediction:47001/48000 \t Loss:52.94338614773005\n",
            "Epoch:1\t VAL\t Correct Prediction:11666/12000 \t Loss:12.20986666996032\n",
            "\n",
            "====================\n",
            "Epoch:2\t TRAIN\t Correct Prediction:47335/48000 \t Loss:33.884908160660416\n",
            "Epoch:2\t VAL\t Correct Prediction:11658/12000 \t Loss:13.016987814567983\n",
            "\n",
            "====================\n",
            "Epoch:3\t TRAIN\t Correct Prediction:47479/48000 \t Loss:25.155746997101232\n",
            "Epoch:3\t VAL\t Correct Prediction:11729/12000 \t Loss:9.675548795610666\n",
            "\n",
            "====================\n",
            "Epoch:4\t TRAIN\t Correct Prediction:47516/48000 \t Loss:21.82036249374505\n",
            "Epoch:4\t VAL\t Correct Prediction:11723/12000 \t Loss:9.494102428667247\n",
            "\n",
            "====================\n",
            "Epoch:5\t TRAIN\t Correct Prediction:47634/48000 \t Loss:18.41483740165131\n",
            "Epoch:5\t VAL\t Correct Prediction:11703/12000 \t Loss:11.761252105701715\n",
            "\n",
            "====================\n",
            "Epoch:6\t TRAIN\t Correct Prediction:47659/48000 \t Loss:16.178939510020427\n",
            "Epoch:6\t VAL\t Correct Prediction:11727/12000 \t Loss:9.593546676915139\n",
            "\n",
            "====================\n",
            "Epoch:7\t TRAIN\t Correct Prediction:47694/48000 \t Loss:14.507872401969507\n",
            "Epoch:7\t VAL\t Correct Prediction:11700/12000 \t Loss:12.117285602726042\n",
            "\n",
            "====================\n",
            "Epoch:8\t TRAIN\t Correct Prediction:47686/48000 \t Loss:15.232130236690864\n",
            "Epoch:8\t VAL\t Correct Prediction:11717/12000 \t Loss:11.235493997344747\n",
            "\n",
            "====================\n",
            "Epoch:9\t TRAIN\t Correct Prediction:47674/48000 \t Loss:15.021387691958807\n",
            "Epoch:9\t VAL\t Correct Prediction:11759/12000 \t Loss:9.095814755186439\n",
            "\n",
            "====================\n",
            "Epoch:10\t TRAIN\t Correct Prediction:47770/48000 \t Loss:11.232793608680367\n",
            "Epoch:10\t VAL\t Correct Prediction:11692/12000 \t Loss:13.020027367863804\n",
            "\n",
            "====================\n",
            "Epoch:11\t TRAIN\t Correct Prediction:47715/48000 \t Loss:12.583172558108345\n",
            "Epoch:11\t VAL\t Correct Prediction:11729/12000 \t Loss:9.880292268353514\n",
            "\n",
            "====================\n",
            "Epoch:12\t TRAIN\t Correct Prediction:47769/48000 \t Loss:10.212211902427953\n",
            "Epoch:12\t VAL\t Correct Prediction:11751/12000 \t Loss:10.863005432882346\n",
            "\n",
            "====================\n",
            "Epoch:13\t TRAIN\t Correct Prediction:47771/48000 \t Loss:11.14348321928992\n",
            "Epoch:13\t VAL\t Correct Prediction:11720/12000 \t Loss:11.02240753825754\n",
            "\n",
            "====================\n",
            "Epoch:14\t TRAIN\t Correct Prediction:47839/48000 \t Loss:7.374447500144015\n",
            "Epoch:14\t VAL\t Correct Prediction:11741/12000 \t Loss:11.433011843590066\n",
            "\n",
            "====================\n",
            "Epoch:15\t TRAIN\t Correct Prediction:47798/48000 \t Loss:8.99749223269464\n",
            "Epoch:15\t VAL\t Correct Prediction:11722/12000 \t Loss:12.677786376676522\n",
            "\n",
            "====================\n",
            "Epoch:16\t TRAIN\t Correct Prediction:47790/48000 \t Loss:9.699762712611118\n",
            "Epoch:16\t VAL\t Correct Prediction:11718/12000 \t Loss:13.793123609852046\n",
            "\n",
            "====================\n",
            "Epoch:17\t TRAIN\t Correct Prediction:47832/48000 \t Loss:8.764854560431559\n",
            "Epoch:17\t VAL\t Correct Prediction:11740/12000 \t Loss:10.37823839392513\n",
            "\n",
            "====================\n",
            "Epoch:18\t TRAIN\t Correct Prediction:47850/48000 \t Loss:6.746807077492122\n",
            "Epoch:18\t VAL\t Correct Prediction:11748/12000 \t Loss:12.652059654938057\n",
            "\n",
            "====================\n",
            "Epoch:19\t TRAIN\t Correct Prediction:47852/48000 \t Loss:7.3238106154312845\n",
            "Epoch:19\t VAL\t Correct Prediction:11752/12000 \t Loss:11.986241641803645\n",
            "\n",
            "====================\n",
            "Training Accuracy: 99.62%\n",
            "Validation Accuracy: 98.11%\n"
          ],
          "name": "stdout"
        }
      ]
    },
    {
      "cell_type": "markdown",
      "metadata": {
        "id": "HcwpGXOjnawk"
      },
      "source": [
        "## Model Evaluation"
      ]
    },
    {
      "cell_type": "code",
      "metadata": {
        "id": "qXulYOfxx2y4",
        "colab": {
          "base_uri": "https://localhost:8080/",
          "height": 483
        },
        "outputId": "7f0fb178-77ae-40a0-dd7d-4e908f9eb978"
      },
      "source": [
        "# Track & Plot Losses\n",
        "\n",
        "import matplotlib.pyplot as plt\n",
        "plt.figure(figsize=(15,8))\n",
        "plt.plot(train_losses, color=\"red\", label=\"Train Loss\")\n",
        "plt.plot(val_losses, color=\"green\", label=\"Test Loss\")\n",
        "plt.legend()\n",
        "plt.show()"
      ],
      "execution_count": 9,
      "outputs": [
        {
          "output_type": "display_data",
          "data": {
            "image/png": "[encoded data removed]",
            "text/plain": [
              "<Figure size 1080x576 with 1 Axes>"
            ]
          },
          "metadata": {
            "tags": [],
            "needs_background": "light"
          }
        }
      ]
    },
    {
      "cell_type": "code",
      "metadata": {
        "id": "xStxRMpA4qmn",
        "colab": {
          "base_uri": "https://localhost:8080/"
        },
        "outputId": "40dbfc3e-bdb1-4c26-8496-25a3f09150f9"
      },
      "source": [
        "# Track on Test Set\n",
        "\n",
        "model.eval()\n",
        "test_loss = 0\n",
        "test_correct = 0\n",
        "for images, labels in test_loader:\n",
        "    images = images.to(device)\n",
        "    labels = labels.to(device)\n",
        "    #   one_hot_labels = F.one_hot(labels, num_classes=10)\n",
        "\n",
        "    random_num = torch.randint(low=0, high=9, size=(batch_size,))\n",
        "    random_num = random_num.to(device)\n",
        "    random_inp = F.one_hot(random_num, num_classes=10)\n",
        "    random_inp = random_inp.type(torch.float32)\n",
        "    sum_labels = labels + random_num  \n",
        "    #   one_hot_random = F.one_hot(random_labels, num_classes=18)\n",
        "    \n",
        "    random_inp = random_inp.to(device)\n",
        "\n",
        "    with torch.no_grad():\n",
        "        preds = model(images, random_inp)                    \n",
        "        test_correct += class_predicted(preds, labels, sum_labels)\n",
        "\n",
        "print(f'{\"TEST\"}\\t Correct Predictions:{test_correct}/{int(len(test_set))}\\n')\n",
        "print(f\"Accuracy: {test_correct/int(len(test_set))*100}%\")\n",
        "print(\"==\"*10)\n"
      ],
      "execution_count": 10,
      "outputs": [
        {
          "output_type": "stream",
          "text": [
            "TEST\t Correct Predictions:9889/10000\n",
            "\n",
            "Accuracy: 98.89%\n",
            "====================\n"
          ],
          "name": "stdout"
        }
      ]
    },
    {
      "cell_type": "code",
      "metadata": {
        "id": "hjm9yhOOcDRq"
      },
      "source": [
        "import torch.onnx"
      ],
      "execution_count": 11,
      "outputs": []
    },
    {
      "cell_type": "code",
      "metadata": {
        "id": "gmRyfiEft6NJ",
        "colab": {
          "base_uri": "https://localhost:8080/"
        },
        "outputId": "17a8693a-4d30-4e0c-b6b1-27ad0f8934ba"
      },
      "source": [
        "# Single Item Inference/Prediction\n",
        "\n",
        "def test_one_item():\n",
        "    batch = next(iter(test_loader))\n",
        "    images,label = batch\n",
        "    images = images.to(device)[0].unsqueeze(dim=0)\n",
        "    label = label.to(device)[0].unsqueeze(dim=0)\n",
        "\n",
        "    random_num = torch.randint(low=0, high=9, size=(1,))\n",
        "    random_num = random_num.to(device)\n",
        "    random_inp = F.one_hot(random_num, num_classes=10)\n",
        "    random_inp = random_inp.type(torch.float32)\n",
        "    sum_labels = label + random_num \n",
        "    print(f\"MNIST number: {label.item()}\")\n",
        "    print(f\"Random number: {random_num.item()}\")\n",
        "    print(f\"Sum: {sum_labels.item()}\")\n",
        "\n",
        "    print(\"=\"*10)\n",
        "    global model\n",
        "    with torch.no_grad():\n",
        "        model = model.eval()\n",
        "        preds = model(images, random_inp)\n",
        "        num, sum = preds[:,:10], preds[:, 10:]\n",
        "    print(f\"Predicted Number {torch.argmax(num)}\")\n",
        "    print(f\"Predicted Sum {torch.argmax(sum)}\")\n",
        "    torch.onnx.export(model,               # model being run\n",
        "                  (images, random_inp),                         # model input (or a tuple for multiple inputs)\n",
        "                  \"model.onnx\",   # where to save the model (can be a file or file-like object)\n",
        "                  export_params=True,        # store the trained parameter weights inside the model file\n",
        "                  opset_version=10,          # the ONNX version to export the model to\n",
        "                  do_constant_folding=True,  # whether to execute constant folding for optimization\n",
        "                  input_names = ['input'],   # the model's input names\n",
        "                  output_names = ['output'], # the model's output names\n",
        "                  dynamic_axes={'input' : {0 : 'batch_size'},    # variable length axes\n",
        "                                'output' : {0 : 'batch_size'}})\n",
        "    \n",
        "    # print(f'Test Prdiction:{class_predicted(preds,label)}')\n",
        "\n",
        "# Single Prediction/Inference\n",
        "test_one_item()"
      ],
      "execution_count": 12,
      "outputs": [
        {
          "output_type": "stream",
          "text": [
            "MNIST number: 0\n",
            "Random number: 7\n",
            "Sum: 7\n",
            "==========\n",
            "Predicted Number 0\n",
            "Predicted Sum 7\n"
          ],
          "name": "stdout"
        }
      ]
    },
    {
      "cell_type": "code",
      "metadata": {
        "id": "uYYvm242d7Fl"
      },
      "source": [
        ""
      ],
      "execution_count": null,
      "outputs": []
    }
  ]
}